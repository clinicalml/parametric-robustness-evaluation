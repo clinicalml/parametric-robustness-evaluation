{
 "cells": [
  {
   "cell_type": "code",
   "execution_count": 2,
   "metadata": {
    "collapsed": false,
    "scrolled": true
   },
   "outputs": [
    {
     "name": "stdout",
     "output_type": "stream",
     "text": [
      "tf: resetting default graph!\n",
      "Using data_type  linear\n",
      "Model directory is  ./logs/0818_072052_linear/checkpoints/Model-50000\n",
      "[*] MODEL dir: ./logs/0818_072052_linear/checkpoints/Model-50000\n",
      "[*] PARAM path: ./logs/0818_072052_linear/checkpoints/Model-50000/params.json\n",
      "GAN Model directory is  ./logs/0818_072052_linear/checkpoints/Model-50000/fc3\n",
      "GAN Model directory is  ./logs/0818_072052_linear/checkpoints/Model-50000/collider\n",
      "GAN Model directory is  ./logs/0818_072052_linear/checkpoints/Model-50000/fc5\n",
      "GAN Model directory is  ./logs/0818_072052_linear/checkpoints/Model-50000/linear\n",
      "GAN Model directory is  ./logs/0818_072052_linear/checkpoints/Model-50000/fc10\n",
      "GAN Model directory is  ./logs/0818_072052_linear/checkpoints/Model-50000/complete\n",
      " [*] Attempting to restore ./logs/0818_072052_linear/checkpoints/Model-50000\n",
      "INFO:tensorflow:Restoring parameters from ./logs/0818_072052_linear/checkpoints/Model-50000\n",
      "built trainer successfully\n"
     ]
    }
   ],
   "source": [
    "%run main.py --data_type 'linear' --load_path './logs/0818_072052_linear/checkpoints/Model-50000' --is_train False"
   ]
  },
  {
   "cell_type": "code",
   "execution_count": 3,
   "metadata": {
    "collapsed": false
   },
   "outputs": [
    {
     "name": "stdout",
     "output_type": "stream",
     "text": [
      "Using matplotlib backend: TkAgg\n"
     ]
    }
   ],
   "source": [
    "%matplotlib\n",
    "import matplotlib.pyplot as plt"
   ]
  },
  {
   "cell_type": "code",
   "execution_count": 4,
   "metadata": {
    "collapsed": true
   },
   "outputs": [],
   "source": [
    "sess=trainer.sess;gans=trainer.gans\n",
    "Xgs=[sess.run(g.gen.X,{g.gen.N:5000}) for g in gans]\n",
    "split_Xgs=[np.split(x,3,axis=1) for x in Xgs]\n",
    "X13gs=[[x[0],x[-1]] for x in split_Xgs]\n",
    "Xds=np.split(sess.run(trainer.data.X,{trainer.data.N:5000}),3,axis=1)\n",
    "X13d=[Xds[0],Xds[-1]]\n",
    "\n",
    "data_dict={'data':X13d}\n",
    "for g,dat in zip(gans,X13gs):\n",
    "    data_dict[g.gan_type]=dat\n",
    "\n",
    "gan_plots=['data','linear','collider','fc5']\n"
   ]
  },
  {
   "cell_type": "code",
   "execution_count": 5,
   "metadata": {
    "collapsed": true
   },
   "outputs": [],
   "source": [
    "titles={'data':'Data Distribution',\n",
    "        'linear':'Linear Generator',\n",
    "        'complete':'Complete Generator',\n",
    "        'collider':'Collider Generator',\n",
    "        'fc5':'Fully Connected Generator'}"
   ]
  },
  {
   "cell_type": "code",
   "execution_count": 74,
   "metadata": {
    "collapsed": false
   },
   "outputs": [],
   "source": [
    "#all at once\n",
    "fig,axes=plt.subplots(1,len(gan_plots),sharey=True)\n",
    "\n",
    "for gtype,ax in zip(gan_plots,axes):\n",
    "    data=data_dict[gtype]\n",
    "    ax.scatter(data[0],data[1])\n",
    "    \n",
    "    ax.set_title(titles[gtype])\n",
    "    ax.set_xlabel('X1')\n",
    "    if gtype==gan_plots[0]:\n",
    "        ax.set_ylabel('X3')\n",
    "\n",
    "        \n",
    "fig.canvas.draw()\n",
    "plt.show()    \n",
    "\n",
    "fig.subplots_adjust(wspace=0.04,left=0.05,hspace=0.04,right=0.98)\n",
    "\n",
    "fig.set_figheight(4)\n",
    "fig.set_figwidth(12)\n",
    "\n",
    "plt.savefig('assets/0818_072052_x1x3_all.pdf')"
   ]
  },
  {
   "cell_type": "code",
   "execution_count": 97,
   "metadata": {
    "collapsed": false
   },
   "outputs": [],
   "source": [
    "#one at a time\n",
    "\n",
    "for gtype in titles.keys():\n",
    "    data=data_dict[gtype]\n",
    "    fig=plt.figure()\n",
    "    plt.scatter(data[0],data[1])\n",
    "    plt.xlim([0,1])\n",
    "    plt.ylim([0,1])\n",
    "    \n",
    "    plt.title(titles[gtype],fontsize=20)\n",
    "\n",
    "    plt.ylabel('X3',fontsize=16)\n",
    "    plt.xlabel('X1',fontsize=16)\n",
    "    save_path='assets/'+'0818_072052/'+'x1x3_'+gtype+'.pdf'\n",
    "    plt.savefig(save_path)\n",
    "\n"
   ]
  },
  {
   "cell_type": "code",
   "execution_count": 6,
   "metadata": {
    "collapsed": false
   },
   "outputs": [],
   "source": [
    "#no titles\n",
    "\n",
    "for gtype in titles.keys():\n",
    "    data=data_dict[gtype]\n",
    "    fig=plt.figure()\n",
    "    plt.scatter(data[0],data[1])\n",
    "    plt.xlim([0,1])\n",
    "    plt.ylim([0,1])\n",
    "    \n",
    "    #plt.title(titles[gtype],fontsize=20)\n",
    "\n",
    "    plt.ylabel('X3',fontsize=16)\n",
    "    plt.xlabel('X1',fontsize=16)\n",
    "    save_path='assets/'+'0818_072052/'+'x1x3_notitle'+gtype+'.pdf'\n",
    "    plt.savefig(save_path)\n",
    "\n"
   ]
  },
  {
   "cell_type": "code",
   "execution_count": 96,
   "metadata": {
    "collapsed": false
   },
   "outputs": [],
   "source": [
    "#no text\n",
    "#No titles: leave to latex to add titles/axes\n",
    "\n",
    "for gtype in titles.keys():\n",
    "    data=data_dict[gtype]\n",
    "    fig=plt.figure()\n",
    "    plt.scatter(data[0],data[1])\n",
    "    plt.xlim([0,1])\n",
    "    plt.ylim([0,1])\n",
    "    \n",
    "    #plt.title(titles[gtype],fontsize=14)\n",
    "\n",
    "    #plt.ylabel('X3',fontsize=14)\n",
    "    #plt.xlabel('X1',fontsize=14)\n",
    "    save_path='assets/'+'0818_072052/'+'x1x3_notext'+gtype+'.pdf'\n",
    "    plt.savefig(save_path)\n",
    "\n"
   ]
  },
  {
   "cell_type": "code",
   "execution_count": 68,
   "metadata": {
    "collapsed": true
   },
   "outputs": [],
   "source": [
    "fig.subplots_adjust?"
   ]
  },
  {
   "cell_type": "code",
   "execution_count": 2,
   "metadata": {
    "collapsed": false
   },
   "outputs": [
    {
     "ename": "NameError",
     "evalue": "name 'trainer' is not defined",
     "output_type": "error",
     "traceback": [
      "\u001b[0;31m---------------------------------------------------------------------------\u001b[0m",
      "\u001b[0;31mNameError\u001b[0m                                 Traceback (most recent call last)",
      "\u001b[0;32m<ipython-input-2-b98b42720f8e>\u001b[0m in \u001b[0;36m<module>\u001b[0;34m()\u001b[0m\n\u001b[0;32m----> 1\u001b[0;31m \u001b[0mtrainer\u001b[0m\u001b[0;34m\u001b[0m\u001b[0m\n\u001b[0m",
      "\u001b[0;31mNameError\u001b[0m: name 'trainer' is not defined"
     ]
    }
   ],
   "source": [
    "trainer"
   ]
  },
  {
   "cell_type": "code",
   "execution_count": null,
   "metadata": {
    "collapsed": true
   },
   "outputs": [],
   "source": [
    "from utils import scatter2d"
   ]
  }
 ],
 "metadata": {
  "kernelspec": {
   "display_name": "Python 2",
   "language": "python",
   "name": "python2"
  },
  "language_info": {
   "codemirror_mode": {
    "name": "ipython",
    "version": 2
   },
   "file_extension": ".py",
   "mimetype": "text/x-python",
   "name": "python",
   "nbconvert_exporter": "python",
   "pygments_lexer": "ipython2",
   "version": "2.7.12"
  }
 },
 "nbformat": 4,
 "nbformat_minor": 1
}
